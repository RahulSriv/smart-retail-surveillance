{
 "cells": [
  {
   "metadata": {
    "ExecuteTime": {
     "end_time": "2025-05-25T08:40:10.804831Z",
     "start_time": "2025-05-25T08:40:07.946989Z"
    }
   },
   "cell_type": "code",
   "source": [
    "from ultralytics import YOLO\n",
    "import cv2"
   ],
   "id": "7892c0465c7c4f9b",
   "outputs": [],
   "execution_count": 1
  },
  {
   "metadata": {
    "ExecuteTime": {
     "end_time": "2025-05-25T08:40:26.113937Z",
     "start_time": "2025-05-25T08:40:14.050671Z"
    }
   },
   "cell_type": "code",
   "source": [
    "# 1. Load the YOLOv8 model\n",
    "model = YOLO(\"../yolov8n.pt\")  # 'n' stands for Nano (lightest and fastest)"
   ],
   "id": "initial_id",
   "outputs": [
    {
     "name": "stdout",
     "output_type": "stream",
     "text": [
      "Downloading https://github.com/ultralytics/assets/releases/download/v8.3.0/yolov8n.pt to 'yolov8n.pt'...\n"
     ]
    },
    {
     "name": "stderr",
     "output_type": "stream",
     "text": [
      "100%|██████████| 6.25M/6.25M [00:10<00:00, 638kB/s] \n"
     ]
    }
   ],
   "execution_count": 2
  },
  {
   "metadata": {
    "ExecuteTime": {
     "end_time": "2025-05-25T08:41:42.809808Z",
     "start_time": "2025-05-25T08:41:42.801233Z"
    }
   },
   "cell_type": "code",
   "source": [
    "# 2. Load an image using OpenCV\n",
    "img_path = \"/resources/input/sample2.jpg\"  # Replace with your image file name\n",
    "img_path"
   ],
   "id": "5153fd9166ecd0e2",
   "outputs": [
    {
     "data": {
      "text/plain": [
       "'D:/Tutorials/smart-retail-surveillance/resources/input/sample2.jpg'"
      ]
     },
     "execution_count": 9,
     "metadata": {},
     "output_type": "execute_result"
    }
   ],
   "execution_count": 9
  },
  {
   "metadata": {
    "ExecuteTime": {
     "end_time": "2025-05-25T08:41:44.007786Z",
     "start_time": "2025-05-25T08:41:43.991538Z"
    }
   },
   "cell_type": "code",
   "source": "img = cv2.imread(img_path)",
   "id": "892e9d86e2f53ef3",
   "outputs": [],
   "execution_count": 10
  },
  {
   "metadata": {
    "ExecuteTime": {
     "end_time": "2025-05-25T08:42:37.043277Z",
     "start_time": "2025-05-25T08:42:34.301479Z"
    }
   },
   "cell_type": "code",
   "source": [
    "# 3. Run object detection\n",
    "results = model.predict(source=img, conf=0.5)"
   ],
   "id": "23b39a871ed96ac6",
   "outputs": [
    {
     "name": "stdout",
     "output_type": "stream",
     "text": [
      "\n",
      "0: 448x640 2 persons, 205.5ms\n",
      "Speed: 67.4ms preprocess, 205.5ms inference, 4.6ms postprocess per image at shape (1, 3, 448, 640)\n"
     ]
    }
   ],
   "execution_count": 13
  },
  {
   "metadata": {
    "ExecuteTime": {
     "end_time": "2025-05-25T08:42:41.118664Z",
     "start_time": "2025-05-25T08:42:41.094111Z"
    }
   },
   "cell_type": "code",
   "source": [
    "annotated_img = results[0].plot()\n",
    "cv2.imwrite(\"/resources/output/detected_output.jpg\", annotated_img)"
   ],
   "id": "320a90dfd56a0612",
   "outputs": [
    {
     "data": {
      "text/plain": [
       "True"
      ]
     },
     "execution_count": 14,
     "metadata": {},
     "output_type": "execute_result"
    }
   ],
   "execution_count": 14
  },
  {
   "metadata": {},
   "cell_type": "code",
   "outputs": [],
   "execution_count": null,
   "source": [
    "# 4. Print detected class names\n",
    "for result in results:\n",
    "    print(\"\\n--- DETECTIONS ---\")\n",
    "    boxes = result.boxes\n",
    "    for box in boxes:\n",
    "        cls_id = int(box.cls[0])\n",
    "        class_name = result.names[cls_id]\n",
    "        confidence = float(box.conf[0])\n",
    "        print(f\"Detected: {class_name} ({confidence:.2f})\")\n"
   ],
   "id": "3fd864eea7dcb453"
  },
  {
   "metadata": {},
   "cell_type": "code",
   "outputs": [],
   "execution_count": null,
   "source": "",
   "id": "e020b8ea7fbd2bc5"
  }
 ],
 "metadata": {
  "kernelspec": {
   "display_name": "Python 3",
   "language": "python",
   "name": "python3"
  },
  "language_info": {
   "codemirror_mode": {
    "name": "ipython",
    "version": 2
   },
   "file_extension": ".py",
   "mimetype": "text/x-python",
   "name": "python",
   "nbconvert_exporter": "python",
   "pygments_lexer": "ipython2",
   "version": "2.7.6"
  }
 },
 "nbformat": 4,
 "nbformat_minor": 5
}
